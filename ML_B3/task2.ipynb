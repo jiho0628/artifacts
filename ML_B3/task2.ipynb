{
 "cells": [
  {
   "cell_type": "code",
   "execution_count": 4,
   "id": "65a7e9d4",
   "metadata": {},
   "outputs": [
    {
     "name": "stdout",
     "output_type": "stream",
     "text": [
      "クロスエントロピー:2.4495257318798336\n",
      "正しい結果: [9 7 9 7 5 6 5 5 2 8 5 0 5 9 4 4 6 7 9 4 6 2 4 1 5 0 2 1 1 4 4 2 3 9 5 6 4\n",
      " 0 9 3 6 4 5 7 3 2 9 0 2 6 9 1 0 4 4 9 3 1 2 2 3 0 8 3 7 1 1 2 0 4 4 2 4 0\n",
      " 3 4 0 1 8 0 6 9 6 7 6 1 0 4 2 6 1 6 2 7 6 3 1 3 2 8]\n",
      "予想結果: [0 0 3 0 3 3 3 0 3 0 3 3 0 3 0 0 0 0 3 0 3 3 3 0 3 3 3 0 0 3 0 3 3 0 3 0 3\n",
      " 0 3 0 3 0 3 0 3 0 3 3 0 0 0 0 3 0 0 0 3 3 3 3 3 3 3 3 0 0 0 3 3 0 3 0 3 3\n",
      " 3 3 3 0 3 3 3 3 3 3 3 0 3 3 3 3 0 3 3 0 3 3 0 3 0 0]\n"
     ]
    }
   ],
   "source": [
    "#課題2\n",
    "\n",
    "import numpy as np\n",
    "import mnist\n",
    "import matplotlib.pyplot as plt\n",
    "from pylab import cm\n",
    "\n",
    "#乱数固定\n",
    "np.random.seed(0)\n",
    "#画像サイズ\n",
    "size = 28*28\n",
    "#中間層の数\n",
    "M = 50\n",
    "#画像枚数\n",
    "amount = 10000\n",
    "#クラス数\n",
    "classes = 10\n",
    "#データ\n",
    "X = mnist.download_and_parse_mnist_file(\"train-images-idx3-ubyte.gz\")\n",
    "Y = mnist.download_and_parse_mnist_file(\"train-labels-idx1-ubyte.gz\")\n",
    "#バッチサイズ\n",
    "B = 100\n",
    "#ランダムなインデックス抽出\n",
    "minibach = np.random.choice(10000, B, replace=False)\n",
    "#乱数生成\n",
    "W_1 = np.random.normal(0, np.sqrt(1/size),(M,size)) #M x size\n",
    "b_1 = np.random.normal(0, np.sqrt(1/size),M) \n",
    "W_2 = np.random.normal(0, np.sqrt(1/M), (classes,M)) #classes x M\n",
    "b_2 = np.random.normal(0, np.sqrt(1/M), classes)\n",
    "#シグモイド関数\n",
    "def sigmoid(x):\n",
    "    return 1.0 / (1.0 + np.exp(-x))\n",
    "#ソフトマックス関数\n",
    "def softmax(x):\n",
    "    u = np.sum(np.exp(x),axis=0)\n",
    "    return np.exp(x)/u\n",
    "\n",
    "#size x Bの行列へ変換\n",
    "X_matrix = []\n",
    "for i in range(B):\n",
    "    X_matrix.append(X[minibach[i]].reshape([size]))\n",
    "X_matrix = np.array(X_matrix).T #size x B\n",
    "X_matrix = X_matrix/255\n",
    "\n",
    "#中間層の出力\n",
    "y_1 = sigmoid(np.dot(W_1,X_matrix)+b_1[:,np.newaxis]) # M x B\n",
    "\n",
    "#ソフトマックス\n",
    "a = np.dot(W_2,y_1) + b_2[:,np.newaxis] # classes x B\n",
    "alpha = np.max(a,axis=0)#各列の最大値B個\n",
    "y_pred = softmax(a - alpha[np.newaxis,:]) #それぞれのバッチのソフトマックス\n",
    "y_index_pred = np.argmax(y_pred,axis=0)  #それぞれのバッチの予測\n",
    "\n",
    "#クロスエントロピーの計算\n",
    "#正しいインデックスのonehotvector\n",
    "y_true = np.array([np.eye(10)[y] for y in Y[minibach]],dtype=\"int8\").T  # 10 x B\n",
    "cross_entropy_list = -np.sum(y_true * np.log(y_pred + 1e-15),axis = 0)\n",
    "cross_entropy = np.sum(cross_entropy_list)/B\n",
    "\n",
    "\n",
    "#結果\n",
    "print(\"クロスエントロピー:\"+ str(cross_entropy))\n",
    "print(\"正しい結果: \" + str(Y[minibach]))\n",
    "print(\"予想結果: \" + str(y_index_pred))"
   ]
  },
  {
   "cell_type": "code",
   "execution_count": null,
   "id": "7f14aa74",
   "metadata": {},
   "outputs": [],
   "source": []
  }
 ],
 "metadata": {
  "kernelspec": {
   "display_name": "Python 3",
   "language": "python",
   "name": "python3"
  },
  "language_info": {
   "codemirror_mode": {
    "name": "ipython",
    "version": 3
   },
   "file_extension": ".py",
   "mimetype": "text/x-python",
   "name": "python",
   "nbconvert_exporter": "python",
   "pygments_lexer": "ipython3",
   "version": "3.7.10"
  }
 },
 "nbformat": 4,
 "nbformat_minor": 5
}
